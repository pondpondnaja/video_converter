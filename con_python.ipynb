{
 "cells": [
  {
   "cell_type": "code",
   "execution_count": null,
   "metadata": {},
   "outputs": [],
   "source": [
    "import os\n",
    "import glob\n",
    "import time\n",
    "import shutil"
   ]
  },
  {
   "cell_type": "code",
   "execution_count": null,
   "metadata": {},
   "outputs": [],
   "source": [
    "file_Name = [] \n",
    "\n",
    "input_path= os.getcwd()+\"/video/**\"\n",
    "video = sorted(glob.glob(os.getcwd()+\"/video/**\"),key=os.path.getsize)\n",
    "\n",
    "def load_video_from_folder(folder):\n",
    "    i = 0;                         \n",
    "    for filename in os.listdir(folder):   \n",
    "        name = folder.split(os.path.sep)[-1]\n",
    "        if not filename.startswith('.'):\n",
    "            file_Name.append(filename)\n",
    "            print(os.path.join(folder, filename))\n",
    "\n",
    "for index in video:\n",
    "    load_video_from_folder(index)"
   ]
  },
  {
   "cell_type": "code",
   "execution_count": null,
   "metadata": {},
   "outputs": [],
   "source": [
    "# Directory\n",
    "directory = \"converted\"\n",
    "  \n",
    "# Parent Directory path\n",
    "parent_dir = os.getcwd()\n",
    "\n",
    "# Path\n",
    "output_path = os.path.join(parent_dir, directory)\n",
    "\n",
    "try:\n",
    "    os.makedirs(output_path, exist_ok = True)\n",
    "    print(\"Directory '%s' created successfully\\n\" % directory)\n",
    "    print(output_path)\n",
    "except OSError as error:\n",
    "    print(\"Directory '%s' can not be created \\n\" % directory)"
   ]
  },
  {
   "cell_type": "code",
   "execution_count": null,
   "metadata": {},
   "outputs": [],
   "source": [
    "start = time.time()\n",
    "\n",
    "for inp_file in file_Name:\n",
    "    src_dir = os.getcwd()\n",
    "    temp_dir = src_dir+\"/temp\"\n",
    "    sub_dir = src_dir+\"/Sub\"\n",
    "\n",
    "    src_temp_file = os.path.join(src_dir, f'video/source/{inp_file}')\n",
    "    dest_temp_dir = os.path.join(src_dir, f'temp/{inp_file}')\n",
    "\n",
    "    shutil.copyfile(src_temp_file, dest_temp_dir)\n",
    "\n",
    "    new_dst_file_name = os.path.join(src_dir, 'temp/temp.mkv')\n",
    "\n",
    "    os.rename(dest_temp_dir, new_dst_file_name)\n",
    "\n",
    "    con_temp_input = str(src_dir+\"/temp/temp.mkv\")\n",
    "    con_temp_output = str(temp_dir+\"/temp_no_sub.mp4\")\n",
    "\n",
    "    con_input = str(temp_dir+\"/temp_no_sub.mp4\")\n",
    "    con_output = str(output_path+\"/temp.mp4\")\n",
    "    con_sub = os.path.join(sub_dir,'sub.ass')\n",
    "\n",
    "    command_sub = f\"ffmpeg -y -i {con_temp_input} -map 0:s:0 {sub_dir}/sub.ass\"\n",
    "    os.system(command_sub)\n",
    "    print(\"Extract .ass subtitle completed.\\n\")\n",
    "\n",
    "    command_convert = f\"ffmpeg -i {con_temp_input} -c:v libx264 -c:a aac {con_temp_output}\"\n",
    "    os.system(command_convert)\n",
    "    print(\"Convert completed.\\n\")\n",
    "\n",
    "    command_add_sub = f\"ffmpeg -i {con_input} -i {con_sub} -map 0 -map 1 -c copy -c:s mov_text {con_output}\"\n",
    "    os.system(command_add_sub)\n",
    "    print(\"Add subtitle completed.\\n\")\n",
    "\n",
    "    if os.path.isfile(con_output):\n",
    "        exten = inp_file.replace(\"mkv\",\"mp4\")\n",
    "        final_file_name = os.path.join(output_path, exten)\n",
    "        os.rename(con_output, final_file_name)\n",
    "        print('Rename temp file completed.\\n')"
   ]
  },
  {
   "cell_type": "code",
   "execution_count": null,
   "metadata": {},
   "outputs": [],
   "source": [
    "\n",
    "end = time.time()\n",
    "elapsed = (end-start)/60\n",
    "print(\"Convert finish in %d minutes.\\n\",elapsed)"
   ]
  },
  {
   "cell_type": "markdown",
   "metadata": {},
   "source": [
    "Clear temp and subtitle folder"
   ]
  },
  {
   "cell_type": "code",
   "execution_count": null,
   "metadata": {},
   "outputs": [],
   "source": [
    "for file in os.scandir(temp_dir):\n",
    "    os.remove(file.path)\n",
    "\n",
    "for file in os.scandir(sub_dir):\n",
    "    os.remove(file.path)"
   ]
  }
 ],
 "metadata": {
  "interpreter": {
   "hash": "aee8b7b246df8f9039afb4144a1f6fd8d2ca17a180786b69acc140d282b71a49"
  },
  "kernelspec": {
   "display_name": "Python 3.9.2 64-bit",
   "name": "python3"
  },
  "language_info": {
   "codemirror_mode": {
    "name": "ipython",
    "version": 3
   },
   "file_extension": ".py",
   "mimetype": "text/x-python",
   "name": "python",
   "nbconvert_exporter": "python",
   "pygments_lexer": "ipython3",
   "version": "3.9.2"
  },
  "orig_nbformat": 4
 },
 "nbformat": 4,
 "nbformat_minor": 2
}
